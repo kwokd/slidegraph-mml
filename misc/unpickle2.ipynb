{
 "cells": [
  {
   "cell_type": "code",
   "execution_count": 1,
   "metadata": {},
   "outputs": [
    {
     "name": "stderr",
     "output_type": "stream",
     "text": [
      "100%|██████████| 652/652 [20:53<00:00,  1.92s/it]\n"
     ]
    }
   ],
   "source": [
    "import pickle\n",
    "import json\n",
    "import sys\n",
    "import os\n",
    "from torch_geometric.data import Data\n",
    "import torch\n",
    "import numpy as np\n",
    "from glob import glob\n",
    "from natsort import natsorted\n",
    "\n",
    "# open pickle file\n",
    "bdir = r'ShuffleNet_0.8_dth_4K/'\n",
    "directory = r'/dcs/20/u2006813/cs310/large/Graphs_shufflenet/'\n",
    "try:\n",
    "    os.mkdir(directory)\n",
    "except FileExistsError:\n",
    "    pass\n",
    "\n",
    "graphlist = glob(os.path.join(bdir, \"*.pkl\"))\n",
    "graphlist = natsorted(graphlist)\n",
    "from tqdm import tqdm\n",
    "for graph in tqdm(graphlist):\n",
    "    with open(graph, 'rb') as infile:\n",
    "        obj = pickle.load(infile)\n",
    "    outpath = os.path.split(graph)[1]\n",
    "    with open(\n",
    "            directory + os.path.splitext(outpath)[0] + '.json',\n",
    "            'w',\n",
    "            encoding='utf-8'\n",
    "        ) as outfile:\n",
    "        obj = {\n",
    "            \"x\": obj[\"x\"].tolist(),\n",
    "            \"edge_index\": obj[\"edge_index\"].tolist(),\n",
    "            \"y\": obj[\"y\"].tolist(),\n",
    "            \"coords\": obj[\"coords\"].tolist(),\n",
    "            }\n",
    "        json.dump(obj, outfile)"
   ]
  }
 ],
 "metadata": {
  "kernelspec": {
   "display_name": "gene_state",
   "language": "python",
   "name": "python3"
  },
  "language_info": {
   "codemirror_mode": {
    "name": "ipython",
    "version": 3
   },
   "file_extension": ".py",
   "mimetype": "text/x-python",
   "name": "python",
   "nbconvert_exporter": "python",
   "pygments_lexer": "ipython3",
   "version": "3.9.18"
  }
 },
 "nbformat": 4,
 "nbformat_minor": 2
}
